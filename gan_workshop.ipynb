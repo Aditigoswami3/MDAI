{
  "nbformat": 4,
  "nbformat_minor": 0,
  "metadata": {
    "colab": {
      "provenance": [],
      "gpuType": "T4",
      "authorship_tag": "ABX9TyPRg9uhAPRz2+5cRk3rerm5",
      "include_colab_link": true
    },
    "kernelspec": {
      "name": "python3",
      "display_name": "Python 3"
    },
    "language_info": {
      "name": "python"
    },
    "accelerator": "GPU"
  },
  "cells": [
    {
      "cell_type": "markdown",
      "metadata": {
        "id": "view-in-github",
        "colab_type": "text"
      },
      "source": [
        "<a href=\"https://colab.research.google.com/github/Aditigoswami3/MDAI/blob/main/gan_workshop.ipynb\" target=\"_parent\"><img src=\"https://colab.research.google.com/assets/colab-badge.svg\" alt=\"Open In Colab\"/></a>"
      ]
    },
    {
      "cell_type": "code",
      "execution_count": null,
      "metadata": {
        "colab": {
          "base_uri": "https://localhost:8080/",
          "height": 35
        },
        "id": "lfH8TaAqLfnc",
        "outputId": "b7281497-ef4d-4bd6-fe5a-56ad8eb66ec8"
      },
      "outputs": [
        {
          "output_type": "execute_result",
          "data": {
            "text/plain": [
              "'2.15.0'"
            ],
            "application/vnd.google.colaboratory.intrinsic+json": {
              "type": "string"
            }
          },
          "metadata": {},
          "execution_count": 173
        }
      ],
      "source": [
        "import matplotlib.pyplot as plt\n",
        "import numpy as np\n",
        "import tensorflow as tf\n",
        "from tensorflow.keras import layers\n",
        "tf.__version__"
      ]
    },
    {
      "cell_type": "code",
      "source": [
        "device =\"cuda\""
      ],
      "metadata": {
        "id": "tlqXd4NLLke4"
      },
      "execution_count": null,
      "outputs": []
    },
    {
      "cell_type": "code",
      "source": [
        "(X_train, y_train), (_, _) = tf.keras.datasets.mnist.load_data()"
      ],
      "metadata": {
        "id": "TRGYR_mrLn3A"
      },
      "execution_count": null,
      "outputs": []
    },
    {
      "cell_type": "code",
      "source": [
        "X_train.shape"
      ],
      "metadata": {
        "colab": {
          "base_uri": "https://localhost:8080/"
        },
        "id": "rSpkU3QbLu18",
        "outputId": "4e3e58bb-a434-43d4-d75c-51eb7ac07ced"
      },
      "execution_count": null,
      "outputs": [
        {
          "output_type": "execute_result",
          "data": {
            "text/plain": [
              "(60000, 28, 28)"
            ]
          },
          "metadata": {},
          "execution_count": 176
        }
      ]
    },
    {
      "cell_type": "code",
      "source": [
        "X_train"
      ],
      "metadata": {
        "colab": {
          "base_uri": "https://localhost:8080/"
        },
        "id": "cVJhx4t6Lx0s",
        "outputId": "df78d32f-f2a1-420f-b294-e3c3f84026fa"
      },
      "execution_count": null,
      "outputs": [
        {
          "output_type": "execute_result",
          "data": {
            "text/plain": [
              "array([[[0, 0, 0, ..., 0, 0, 0],\n",
              "        [0, 0, 0, ..., 0, 0, 0],\n",
              "        [0, 0, 0, ..., 0, 0, 0],\n",
              "        ...,\n",
              "        [0, 0, 0, ..., 0, 0, 0],\n",
              "        [0, 0, 0, ..., 0, 0, 0],\n",
              "        [0, 0, 0, ..., 0, 0, 0]],\n",
              "\n",
              "       [[0, 0, 0, ..., 0, 0, 0],\n",
              "        [0, 0, 0, ..., 0, 0, 0],\n",
              "        [0, 0, 0, ..., 0, 0, 0],\n",
              "        ...,\n",
              "        [0, 0, 0, ..., 0, 0, 0],\n",
              "        [0, 0, 0, ..., 0, 0, 0],\n",
              "        [0, 0, 0, ..., 0, 0, 0]],\n",
              "\n",
              "       [[0, 0, 0, ..., 0, 0, 0],\n",
              "        [0, 0, 0, ..., 0, 0, 0],\n",
              "        [0, 0, 0, ..., 0, 0, 0],\n",
              "        ...,\n",
              "        [0, 0, 0, ..., 0, 0, 0],\n",
              "        [0, 0, 0, ..., 0, 0, 0],\n",
              "        [0, 0, 0, ..., 0, 0, 0]],\n",
              "\n",
              "       ...,\n",
              "\n",
              "       [[0, 0, 0, ..., 0, 0, 0],\n",
              "        [0, 0, 0, ..., 0, 0, 0],\n",
              "        [0, 0, 0, ..., 0, 0, 0],\n",
              "        ...,\n",
              "        [0, 0, 0, ..., 0, 0, 0],\n",
              "        [0, 0, 0, ..., 0, 0, 0],\n",
              "        [0, 0, 0, ..., 0, 0, 0]],\n",
              "\n",
              "       [[0, 0, 0, ..., 0, 0, 0],\n",
              "        [0, 0, 0, ..., 0, 0, 0],\n",
              "        [0, 0, 0, ..., 0, 0, 0],\n",
              "        ...,\n",
              "        [0, 0, 0, ..., 0, 0, 0],\n",
              "        [0, 0, 0, ..., 0, 0, 0],\n",
              "        [0, 0, 0, ..., 0, 0, 0]],\n",
              "\n",
              "       [[0, 0, 0, ..., 0, 0, 0],\n",
              "        [0, 0, 0, ..., 0, 0, 0],\n",
              "        [0, 0, 0, ..., 0, 0, 0],\n",
              "        ...,\n",
              "        [0, 0, 0, ..., 0, 0, 0],\n",
              "        [0, 0, 0, ..., 0, 0, 0],\n",
              "        [0, 0, 0, ..., 0, 0, 0]]], dtype=uint8)"
            ]
          },
          "metadata": {},
          "execution_count": 177
        }
      ]
    },
    {
      "cell_type": "code",
      "source": [
        "len\n",
        "(\n",
        "X_train\n",
        ")"
      ],
      "metadata": {
        "colab": {
          "base_uri": "https://localhost:8080/"
        },
        "id": "8us-mZXBL1-B",
        "outputId": "131da666-3d81-4dae-db50-3c2ce97c3e84"
      },
      "execution_count": null,
      "outputs": [
        {
          "output_type": "execute_result",
          "data": {
            "text/plain": [
              "array([[[0, 0, 0, ..., 0, 0, 0],\n",
              "        [0, 0, 0, ..., 0, 0, 0],\n",
              "        [0, 0, 0, ..., 0, 0, 0],\n",
              "        ...,\n",
              "        [0, 0, 0, ..., 0, 0, 0],\n",
              "        [0, 0, 0, ..., 0, 0, 0],\n",
              "        [0, 0, 0, ..., 0, 0, 0]],\n",
              "\n",
              "       [[0, 0, 0, ..., 0, 0, 0],\n",
              "        [0, 0, 0, ..., 0, 0, 0],\n",
              "        [0, 0, 0, ..., 0, 0, 0],\n",
              "        ...,\n",
              "        [0, 0, 0, ..., 0, 0, 0],\n",
              "        [0, 0, 0, ..., 0, 0, 0],\n",
              "        [0, 0, 0, ..., 0, 0, 0]],\n",
              "\n",
              "       [[0, 0, 0, ..., 0, 0, 0],\n",
              "        [0, 0, 0, ..., 0, 0, 0],\n",
              "        [0, 0, 0, ..., 0, 0, 0],\n",
              "        ...,\n",
              "        [0, 0, 0, ..., 0, 0, 0],\n",
              "        [0, 0, 0, ..., 0, 0, 0],\n",
              "        [0, 0, 0, ..., 0, 0, 0]],\n",
              "\n",
              "       ...,\n",
              "\n",
              "       [[0, 0, 0, ..., 0, 0, 0],\n",
              "        [0, 0, 0, ..., 0, 0, 0],\n",
              "        [0, 0, 0, ..., 0, 0, 0],\n",
              "        ...,\n",
              "        [0, 0, 0, ..., 0, 0, 0],\n",
              "        [0, 0, 0, ..., 0, 0, 0],\n",
              "        [0, 0, 0, ..., 0, 0, 0]],\n",
              "\n",
              "       [[0, 0, 0, ..., 0, 0, 0],\n",
              "        [0, 0, 0, ..., 0, 0, 0],\n",
              "        [0, 0, 0, ..., 0, 0, 0],\n",
              "        ...,\n",
              "        [0, 0, 0, ..., 0, 0, 0],\n",
              "        [0, 0, 0, ..., 0, 0, 0],\n",
              "        [0, 0, 0, ..., 0, 0, 0]],\n",
              "\n",
              "       [[0, 0, 0, ..., 0, 0, 0],\n",
              "        [0, 0, 0, ..., 0, 0, 0],\n",
              "        [0, 0, 0, ..., 0, 0, 0],\n",
              "        ...,\n",
              "        [0, 0, 0, ..., 0, 0, 0],\n",
              "        [0, 0, 0, ..., 0, 0, 0],\n",
              "        [0, 0, 0, ..., 0, 0, 0]]], dtype=uint8)"
            ]
          },
          "metadata": {},
          "execution_count": 178
        }
      ]
    },
    {
      "cell_type": "code",
      "source": [
        "X_train\n",
        "[\n",
        "90\n",
        "]"
      ],
      "metadata": {
        "colab": {
          "base_uri": "https://localhost:8080/"
        },
        "id": "fuMpJGZOL6HX",
        "outputId": "861f8384-5d2c-4d93-a551-0c15bba67b77"
      },
      "execution_count": null,
      "outputs": [
        {
          "output_type": "execute_result",
          "data": {
            "text/plain": [
              "[90]"
            ]
          },
          "metadata": {},
          "execution_count": 179
        }
      ]
    },
    {
      "cell_type": "code",
      "source": [
        "y_train.shape\n",
        "y_train"
      ],
      "metadata": {
        "colab": {
          "base_uri": "https://localhost:8080/"
        },
        "id": "B2VnPcqfL867",
        "outputId": "eaa3e142-cbe4-4648-a18f-b1a870a47ab4"
      },
      "execution_count": null,
      "outputs": [
        {
          "output_type": "execute_result",
          "data": {
            "text/plain": [
              "array([5, 0, 4, ..., 5, 6, 8], dtype=uint8)"
            ]
          },
          "metadata": {},
          "execution_count": 180
        }
      ]
    },
    {
      "cell_type": "code",
      "source": [
        "i = np.random.randint(0,60000)\n",
        "print(i)\n",
        "print(y_train[i])\n",
        "plt.imshow(X_train[i],cmap =\"gray\")\n",
        "plt.title(\"Img at index i\")\n",
        "plt.show"
      ],
      "metadata": {
        "colab": {
          "base_uri": "https://localhost:8080/",
          "height": 655
        },
        "id": "aqT2sC-kMAxF",
        "outputId": "371fe961-6f2c-4e2c-af37-e1999bcc2d7f"
      },
      "execution_count": null,
      "outputs": [
        {
          "output_type": "stream",
          "name": "stdout",
          "text": [
            "12343\n",
            "4\n"
          ]
        },
        {
          "output_type": "execute_result",
          "data": {
            "text/plain": [
              "<function matplotlib.pyplot.show(close=None, block=None)>"
            ],
            "text/html": [
              "<div style=\"max-width:800px; border: 1px solid var(--colab-border-color);\"><style>\n",
              "      pre.function-repr-contents {\n",
              "        overflow-x: auto;\n",
              "        padding: 8px 12px;\n",
              "        max-height: 500px;\n",
              "      }\n",
              "\n",
              "      pre.function-repr-contents.function-repr-contents-collapsed {\n",
              "        cursor: pointer;\n",
              "        max-height: 100px;\n",
              "      }\n",
              "    </style>\n",
              "    <pre style=\"white-space: initial; background:\n",
              "         var(--colab-secondary-surface-color); padding: 8px 12px;\n",
              "         border-bottom: 1px solid var(--colab-border-color);\"><b>matplotlib.pyplot.show</b><br/>def show(*args, **kwargs)</pre><pre class=\"function-repr-contents function-repr-contents-collapsed\" style=\"\"><a class=\"filepath\" style=\"display:none\" href=\"#\">/usr/local/lib/python3.10/dist-packages/matplotlib/pyplot.py</a>Display all open figures.\n",
              "\n",
              "Parameters\n",
              "----------\n",
              "block : bool, optional\n",
              "    Whether to wait for all figures to be closed before returning.\n",
              "\n",
              "    If `True` block and run the GUI main loop until all figure windows\n",
              "    are closed.\n",
              "\n",
              "    If `False` ensure that all figure windows are displayed and return\n",
              "    immediately.  In this case, you are responsible for ensuring\n",
              "    that the event loop is running to have responsive figures.\n",
              "\n",
              "    Defaults to True in non-interactive mode and to False in interactive\n",
              "    mode (see `.pyplot.isinteractive`).\n",
              "\n",
              "See Also\n",
              "--------\n",
              "ion : Enable interactive mode, which shows / updates the figure after\n",
              "      every plotting command, so that calling ``show()`` is not necessary.\n",
              "ioff : Disable interactive mode.\n",
              "savefig : Save the figure to an image file instead of showing it on screen.\n",
              "\n",
              "Notes\n",
              "-----\n",
              "**Saving figures to file and showing a window at the same time**\n",
              "\n",
              "If you want an image file as well as a user interface window, use\n",
              "`.pyplot.savefig` before `.pyplot.show`. At the end of (a blocking)\n",
              "``show()`` the figure is closed and thus unregistered from pyplot. Calling\n",
              "`.pyplot.savefig` afterwards would save a new and thus empty figure. This\n",
              "limitation of command order does not apply if the show is non-blocking or\n",
              "if you keep a reference to the figure and use `.Figure.savefig`.\n",
              "\n",
              "**Auto-show in jupyter notebooks**\n",
              "\n",
              "The jupyter backends (activated via ``%matplotlib inline``,\n",
              "``%matplotlib notebook``, or ``%matplotlib widget``), call ``show()`` at\n",
              "the end of every cell by default. Thus, you usually don&#x27;t have to call it\n",
              "explicitly there.</pre>\n",
              "      <script>\n",
              "      if (google.colab.kernel.accessAllowed && google.colab.files && google.colab.files.view) {\n",
              "        for (const element of document.querySelectorAll('.filepath')) {\n",
              "          element.style.display = 'block'\n",
              "          element.onclick = (event) => {\n",
              "            event.preventDefault();\n",
              "            event.stopPropagation();\n",
              "            google.colab.files.view(element.textContent, 401);\n",
              "          };\n",
              "        }\n",
              "      }\n",
              "      for (const element of document.querySelectorAll('.function-repr-contents')) {\n",
              "        element.onclick = (event) => {\n",
              "          event.preventDefault();\n",
              "          event.stopPropagation();\n",
              "          element.classList.toggle('function-repr-contents-collapsed');\n",
              "        };\n",
              "      }\n",
              "      </script>\n",
              "      </div>"
            ]
          },
          "metadata": {},
          "execution_count": 181
        },
        {
          "output_type": "display_data",
          "data": {
            "text/plain": [
              "<Figure size 640x480 with 1 Axes>"
            ],
            "image/png": "[encoded data removed]"
          },
          "metadata": {}
        }
      ]
    },
    {
      "cell_type": "code",
      "source": [
        "X_train = X_train.reshape(X_train.shape[0],28,28,1).astype('float32')"
      ],
      "metadata": {
        "id": "HWH7use7MJfG"
      },
      "execution_count": null,
      "outputs": []
    },
    {
      "cell_type": "code",
      "source": [
        "X_train.shape"
      ],
      "metadata": {
        "colab": {
          "base_uri": "https://localhost:8080/"
        },
        "id": "p50GjLbSMbjt",
        "outputId": "7228c227-9526-4bc7-b1bd-5389ad21f392"
      },
      "execution_count": null,
      "outputs": [
        {
          "output_type": "execute_result",
          "data": {
            "text/plain": [
              "(60000, 28, 28, 1)"
            ]
          },
          "metadata": {},
          "execution_count": 183
        }
      ]
    },
    {
      "cell_type": "code",
      "source": [
        "X_train[0].min(), X_train[0].max()"
      ],
      "metadata": {
        "colab": {
          "base_uri": "https://localhost:8080/"
        },
        "id": "o_J1GM_QMveA",
        "outputId": "cdf61301-20b9-4a70-ba31-e9a5c8046b40"
      },
      "execution_count": null,
      "outputs": [
        {
          "output_type": "execute_result",
          "data": {
            "text/plain": [
              "(0.0, 255.0)"
            ]
          },
          "metadata": {},
          "execution_count": 184
        }
      ]
    },
    {
      "cell_type": "code",
      "source": [
        "X_train = (X_train-127.5)/ 127.5"
      ],
      "metadata": {
        "id": "vrCluCocMyBZ"
      },
      "execution_count": null,
      "outputs": []
    },
    {
      "cell_type": "code",
      "source": [
        "X_train[0].min(), X_train[0].max()"
      ],
      "metadata": {
        "colab": {
          "base_uri": "https://localhost:8080/"
        },
        "id": "fCBrCe4cM0wu",
        "outputId": "8579bd8c-6fd1-4d9d-ab79-7583912d642d"
      },
      "execution_count": null,
      "outputs": [
        {
          "output_type": "execute_result",
          "data": {
            "text/plain": [
              "(-1.0, 1.0)"
            ]
          },
          "metadata": {},
          "execution_count": 186
        }
      ]
    },
    {
      "cell_type": "code",
      "source": [
        "buffer_size = 60000\n",
        "batch_size = 256\n",
        "buffer_size/batch_size"
      ],
      "metadata": {
        "colab": {
          "base_uri": "https://localhost:8080/"
        },
        "id": "Eu8mDBdaM3Lh",
        "outputId": "6cdb9984-339d-4462-c3b2-23837ad619d4"
      },
      "execution_count": null,
      "outputs": [
        {
          "output_type": "execute_result",
          "data": {
            "text/plain": [
              "234.375"
            ]
          },
          "metadata": {},
          "execution_count": 187
        }
      ]
    },
    {
      "cell_type": "code",
      "source": [
        "type(X_train)"
      ],
      "metadata": {
        "colab": {
          "base_uri": "https://localhost:8080/"
        },
        "id": "qcI1mGT9M8fo",
        "outputId": "33d2b30e-aaae-439c-9bb6-818d418cd1b4"
      },
      "execution_count": null,
      "outputs": [
        {
          "output_type": "execute_result",
          "data": {
            "text/plain": [
              "numpy.ndarray"
            ]
          },
          "metadata": {},
          "execution_count": 188
        }
      ]
    },
    {
      "cell_type": "code",
      "source": [
        "X_train"
      ],
      "metadata": {
        "colab": {
          "base_uri": "https://localhost:8080/"
        },
        "id": "g7b3XNxpNA7p",
        "outputId": "b35df937-96b7-49e8-e8be-4d95fc80afef"
      },
      "execution_count": null,
      "outputs": [
        {
          "output_type": "execute_result",
          "data": {
            "text/plain": [
              "array([[[[-1.],\n",
              "         [-1.],\n",
              "         [-1.],\n",
              "         ...,\n",
              "         [-1.],\n",
              "         [-1.],\n",
              "         [-1.]],\n",
              "\n",
              "        [[-1.],\n",
              "         [-1.],\n",
              "         [-1.],\n",
              "         ...,\n",
              "         [-1.],\n",
              "         [-1.],\n",
              "         [-1.]],\n",
              "\n",
              "        [[-1.],\n",
              "         [-1.],\n",
              "         [-1.],\n",
              "         ...,\n",
              "         [-1.],\n",
              "         [-1.],\n",
              "         [-1.]],\n",
              "\n",
              "        ...,\n",
              "\n",
              "        [[-1.],\n",
              "         [-1.],\n",
              "         [-1.],\n",
              "         ...,\n",
              "         [-1.],\n",
              "         [-1.],\n",
              "         [-1.]],\n",
              "\n",
              "        [[-1.],\n",
              "         [-1.],\n",
              "         [-1.],\n",
              "         ...,\n",
              "         [-1.],\n",
              "         [-1.],\n",
              "         [-1.]],\n",
              "\n",
              "        [[-1.],\n",
              "         [-1.],\n",
              "         [-1.],\n",
              "         ...,\n",
              "         [-1.],\n",
              "         [-1.],\n",
              "         [-1.]]],\n",
              "\n",
              "\n",
              "       [[[-1.],\n",
              "         [-1.],\n",
              "         [-1.],\n",
              "         ...,\n",
              "         [-1.],\n",
              "         [-1.],\n",
              "         [-1.]],\n",
              "\n",
              "        [[-1.],\n",
              "         [-1.],\n",
              "         [-1.],\n",
              "         ...,\n",
              "         [-1.],\n",
              "         [-1.],\n",
              "         [-1.]],\n",
              "\n",
              "        [[-1.],\n",
              "         [-1.],\n",
              "         [-1.],\n",
              "         ...,\n",
              "         [-1.],\n",
              "         [-1.],\n",
              "         [-1.]],\n",
              "\n",
              "        ...,\n",
              "\n",
              "        [[-1.],\n",
              "         [-1.],\n",
              "         [-1.],\n",
              "         ...,\n",
              "         [-1.],\n",
              "         [-1.],\n",
              "         [-1.]],\n",
              "\n",
              "        [[-1.],\n",
              "         [-1.],\n",
              "         [-1.],\n",
              "         ...,\n",
              "         [-1.],\n",
              "         [-1.],\n",
              "         [-1.]],\n",
              "\n",
              "        [[-1.],\n",
              "         [-1.],\n",
              "         [-1.],\n",
              "         ...,\n",
              "         [-1.],\n",
              "         [-1.],\n",
              "         [-1.]]],\n",
              "\n",
              "\n",
              "       [[[-1.],\n",
              "         [-1.],\n",
              "         [-1.],\n",
              "         ...,\n",
              "         [-1.],\n",
              "         [-1.],\n",
              "         [-1.]],\n",
              "\n",
              "        [[-1.],\n",
              "         [-1.],\n",
              "         [-1.],\n",
              "         ...,\n",
              "         [-1.],\n",
              "         [-1.],\n",
              "         [-1.]],\n",
              "\n",
              "        [[-1.],\n",
              "         [-1.],\n",
              "         [-1.],\n",
              "         ...,\n",
              "         [-1.],\n",
              "         [-1.],\n",
              "         [-1.]],\n",
              "\n",
              "        ...,\n",
              "\n",
              "        [[-1.],\n",
              "         [-1.],\n",
              "         [-1.],\n",
              "         ...,\n",
              "         [-1.],\n",
              "         [-1.],\n",
              "         [-1.]],\n",
              "\n",
              "        [[-1.],\n",
              "         [-1.],\n",
              "         [-1.],\n",
              "         ...,\n",
              "         [-1.],\n",
              "         [-1.],\n",
              "         [-1.]],\n",
              "\n",
              "        [[-1.],\n",
              "         [-1.],\n",
              "         [-1.],\n",
              "         ...,\n",
              "         [-1.],\n",
              "         [-1.],\n",
              "         [-1.]]],\n",
              "\n",
              "\n",
              "       ...,\n",
              "\n",
              "\n",
              "       [[[-1.],\n",
              "         [-1.],\n",
              "         [-1.],\n",
              "         ...,\n",
              "         [-1.],\n",
              "         [-1.],\n",
              "         [-1.]],\n",
              "\n",
              "        [[-1.],\n",
              "         [-1.],\n",
              "         [-1.],\n",
              "         ...,\n",
              "         [-1.],\n",
              "         [-1.],\n",
              "         [-1.]],\n",
              "\n",
              "        [[-1.],\n",
              "         [-1.],\n",
              "         [-1.],\n",
              "         ...,\n",
              "         [-1.],\n",
              "         [-1.],\n",
              "         [-1.]],\n",
              "\n",
              "        ...,\n",
              "\n",
              "        [[-1.],\n",
              "         [-1.],\n",
              "         [-1.],\n",
              "         ...,\n",
              "         [-1.],\n",
              "         [-1.],\n",
              "         [-1.]],\n",
              "\n",
              "        [[-1.],\n",
              "         [-1.],\n",
              "         [-1.],\n",
              "         ...,\n",
              "         [-1.],\n",
              "         [-1.],\n",
              "         [-1.]],\n",
              "\n",
              "        [[-1.],\n",
              "         [-1.],\n",
              "         [-1.],\n",
              "         ...,\n",
              "         [-1.],\n",
              "         [-1.],\n",
              "         [-1.]]],\n",
              "\n",
              "\n",
              "       [[[-1.],\n",
              "         [-1.],\n",
              "         [-1.],\n",
              "         ...,\n",
              "         [-1.],\n",
              "         [-1.],\n",
              "         [-1.]],\n",
              "\n",
              "        [[-1.],\n",
              "         [-1.],\n",
              "         [-1.],\n",
              "         ...,\n",
              "         [-1.],\n",
              "         [-1.],\n",
              "         [-1.]],\n",
              "\n",
              "        [[-1.],\n",
              "         [-1.],\n",
              "         [-1.],\n",
              "         ...,\n",
              "         [-1.],\n",
              "         [-1.],\n",
              "         [-1.]],\n",
              "\n",
              "        ...,\n",
              "\n",
              "        [[-1.],\n",
              "         [-1.],\n",
              "         [-1.],\n",
              "         ...,\n",
              "         [-1.],\n",
              "         [-1.],\n",
              "         [-1.]],\n",
              "\n",
              "        [[-1.],\n",
              "         [-1.],\n",
              "         [-1.],\n",
              "         ...,\n",
              "         [-1.],\n",
              "         [-1.],\n",
              "         [-1.]],\n",
              "\n",
              "        [[-1.],\n",
              "         [-1.],\n",
              "         [-1.],\n",
              "         ...,\n",
              "         [-1.],\n",
              "         [-1.],\n",
              "         [-1.]]],\n",
              "\n",
              "\n",
              "       [[[-1.],\n",
              "         [-1.],\n",
              "         [-1.],\n",
              "         ...,\n",
              "         [-1.],\n",
              "         [-1.],\n",
              "         [-1.]],\n",
              "\n",
              "        [[-1.],\n",
              "         [-1.],\n",
              "         [-1.],\n",
              "         ...,\n",
              "         [-1.],\n",
              "         [-1.],\n",
              "         [-1.]],\n",
              "\n",
              "        [[-1.],\n",
              "         [-1.],\n",
              "         [-1.],\n",
              "         ...,\n",
              "         [-1.],\n",
              "         [-1.],\n",
              "         [-1.]],\n",
              "\n",
              "        ...,\n",
              "\n",
              "        [[-1.],\n",
              "         [-1.],\n",
              "         [-1.],\n",
              "         ...,\n",
              "         [-1.],\n",
              "         [-1.],\n",
              "         [-1.]],\n",
              "\n",
              "        [[-1.],\n",
              "         [-1.],\n",
              "         [-1.],\n",
              "         ...,\n",
              "         [-1.],\n",
              "         [-1.],\n",
              "         [-1.]],\n",
              "\n",
              "        [[-1.],\n",
              "         [-1.],\n",
              "         [-1.],\n",
              "         ...,\n",
              "         [-1.],\n",
              "         [-1.],\n",
              "         [-1.]]]], dtype=float32)"
            ]
          },
          "metadata": {},
          "execution_count": 189
        }
      ]
    },
    {
      "cell_type": "code",
      "source": [
        "X_train"
      ],
      "metadata": {
        "colab": {
          "base_uri": "https://localhost:8080/"
        },
        "id": "Mg2k4232NM5c",
        "outputId": "4b55242b-c31a-451d-c8e0-b17915a883cc"
      },
      "execution_count": null,
      "outputs": [
        {
          "output_type": "execute_result",
          "data": {
            "text/plain": [
              "array([[[[-1.],\n",
              "         [-1.],\n",
              "         [-1.],\n",
              "         ...,\n",
              "         [-1.],\n",
              "         [-1.],\n",
              "         [-1.]],\n",
              "\n",
              "        [[-1.],\n",
              "         [-1.],\n",
              "         [-1.],\n",
              "         ...,\n",
              "         [-1.],\n",
              "         [-1.],\n",
              "         [-1.]],\n",
              "\n",
              "        [[-1.],\n",
              "         [-1.],\n",
              "         [-1.],\n",
              "         ...,\n",
              "         [-1.],\n",
              "         [-1.],\n",
              "         [-1.]],\n",
              "\n",
              "        ...,\n",
              "\n",
              "        [[-1.],\n",
              "         [-1.],\n",
              "         [-1.],\n",
              "         ...,\n",
              "         [-1.],\n",
              "         [-1.],\n",
              "         [-1.]],\n",
              "\n",
              "        [[-1.],\n",
              "         [-1.],\n",
              "         [-1.],\n",
              "         ...,\n",
              "         [-1.],\n",
              "         [-1.],\n",
              "         [-1.]],\n",
              "\n",
              "        [[-1.],\n",
              "         [-1.],\n",
              "         [-1.],\n",
              "         ...,\n",
              "         [-1.],\n",
              "         [-1.],\n",
              "         [-1.]]],\n",
              "\n",
              "\n",
              "       [[[-1.],\n",
              "         [-1.],\n",
              "         [-1.],\n",
              "         ...,\n",
              "         [-1.],\n",
              "         [-1.],\n",
              "         [-1.]],\n",
              "\n",
              "        [[-1.],\n",
              "         [-1.],\n",
              "         [-1.],\n",
              "         ...,\n",
              "         [-1.],\n",
              "         [-1.],\n",
              "         [-1.]],\n",
              "\n",
              "        [[-1.],\n",
              "         [-1.],\n",
              "         [-1.],\n",
              "         ...,\n",
              "         [-1.],\n",
              "         [-1.],\n",
              "         [-1.]],\n",
              "\n",
              "        ...,\n",
              "\n",
              "        [[-1.],\n",
              "         [-1.],\n",
              "         [-1.],\n",
              "         ...,\n",
              "         [-1.],\n",
              "         [-1.],\n",
              "         [-1.]],\n",
              "\n",
              "        [[-1.],\n",
              "         [-1.],\n",
              "         [-1.],\n",
              "         ...,\n",
              "         [-1.],\n",
              "         [-1.],\n",
              "         [-1.]],\n",
              "\n",
              "        [[-1.],\n",
              "         [-1.],\n",
              "         [-1.],\n",
              "         ...,\n",
              "         [-1.],\n",
              "         [-1.],\n",
              "         [-1.]]],\n",
              "\n",
              "\n",
              "       [[[-1.],\n",
              "         [-1.],\n",
              "         [-1.],\n",
              "         ...,\n",
              "         [-1.],\n",
              "         [-1.],\n",
              "         [-1.]],\n",
              "\n",
              "        [[-1.],\n",
              "         [-1.],\n",
              "         [-1.],\n",
              "         ...,\n",
              "         [-1.],\n",
              "         [-1.],\n",
              "         [-1.]],\n",
              "\n",
              "        [[-1.],\n",
              "         [-1.],\n",
              "         [-1.],\n",
              "         ...,\n",
              "         [-1.],\n",
              "         [-1.],\n",
              "         [-1.]],\n",
              "\n",
              "        ...,\n",
              "\n",
              "        [[-1.],\n",
              "         [-1.],\n",
              "         [-1.],\n",
              "         ...,\n",
              "         [-1.],\n",
              "         [-1.],\n",
              "         [-1.]],\n",
              "\n",
              "        [[-1.],\n",
              "         [-1.],\n",
              "         [-1.],\n",
              "         ...,\n",
              "         [-1.],\n",
              "         [-1.],\n",
              "         [-1.]],\n",
              "\n",
              "        [[-1.],\n",
              "         [-1.],\n",
              "         [-1.],\n",
              "         ...,\n",
              "         [-1.],\n",
              "         [-1.],\n",
              "         [-1.]]],\n",
              "\n",
              "\n",
              "       ...,\n",
              "\n",
              "\n",
              "       [[[-1.],\n",
              "         [-1.],\n",
              "         [-1.],\n",
              "         ...,\n",
              "         [-1.],\n",
              "         [-1.],\n",
              "         [-1.]],\n",
              "\n",
              "        [[-1.],\n",
              "         [-1.],\n",
              "         [-1.],\n",
              "         ...,\n",
              "         [-1.],\n",
              "         [-1.],\n",
              "         [-1.]],\n",
              "\n",
              "        [[-1.],\n",
              "         [-1.],\n",
              "         [-1.],\n",
              "         ...,\n",
              "         [-1.],\n",
              "         [-1.],\n",
              "         [-1.]],\n",
              "\n",
              "        ...,\n",
              "\n",
              "        [[-1.],\n",
              "         [-1.],\n",
              "         [-1.],\n",
              "         ...,\n",
              "         [-1.],\n",
              "         [-1.],\n",
              "         [-1.]],\n",
              "\n",
              "        [[-1.],\n",
              "         [-1.],\n",
              "         [-1.],\n",
              "         ...,\n",
              "         [-1.],\n",
              "         [-1.],\n",
              "         [-1.]],\n",
              "\n",
              "        [[-1.],\n",
              "         [-1.],\n",
              "         [-1.],\n",
              "         ...,\n",
              "         [-1.],\n",
              "         [-1.],\n",
              "         [-1.]]],\n",
              "\n",
              "\n",
              "       [[[-1.],\n",
              "         [-1.],\n",
              "         [-1.],\n",
              "         ...,\n",
              "         [-1.],\n",
              "         [-1.],\n",
              "         [-1.]],\n",
              "\n",
              "        [[-1.],\n",
              "         [-1.],\n",
              "         [-1.],\n",
              "         ...,\n",
              "         [-1.],\n",
              "         [-1.],\n",
              "         [-1.]],\n",
              "\n",
              "        [[-1.],\n",
              "         [-1.],\n",
              "         [-1.],\n",
              "         ...,\n",
              "         [-1.],\n",
              "         [-1.],\n",
              "         [-1.]],\n",
              "\n",
              "        ...,\n",
              "\n",
              "        [[-1.],\n",
              "         [-1.],\n",
              "         [-1.],\n",
              "         ...,\n",
              "         [-1.],\n",
              "         [-1.],\n",
              "         [-1.]],\n",
              "\n",
              "        [[-1.],\n",
              "         [-1.],\n",
              "         [-1.],\n",
              "         ...,\n",
              "         [-1.],\n",
              "         [-1.],\n",
              "         [-1.]],\n",
              "\n",
              "        [[-1.],\n",
              "         [-1.],\n",
              "         [-1.],\n",
              "         ...,\n",
              "         [-1.],\n",
              "         [-1.],\n",
              "         [-1.]]],\n",
              "\n",
              "\n",
              "       [[[-1.],\n",
              "         [-1.],\n",
              "         [-1.],\n",
              "         ...,\n",
              "         [-1.],\n",
              "         [-1.],\n",
              "         [-1.]],\n",
              "\n",
              "        [[-1.],\n",
              "         [-1.],\n",
              "         [-1.],\n",
              "         ...,\n",
              "         [-1.],\n",
              "         [-1.],\n",
              "         [-1.]],\n",
              "\n",
              "        [[-1.],\n",
              "         [-1.],\n",
              "         [-1.],\n",
              "         ...,\n",
              "         [-1.],\n",
              "         [-1.],\n",
              "         [-1.]],\n",
              "\n",
              "        ...,\n",
              "\n",
              "        [[-1.],\n",
              "         [-1.],\n",
              "         [-1.],\n",
              "         ...,\n",
              "         [-1.],\n",
              "         [-1.],\n",
              "         [-1.]],\n",
              "\n",
              "        [[-1.],\n",
              "         [-1.],\n",
              "         [-1.],\n",
              "         ...,\n",
              "         [-1.],\n",
              "         [-1.],\n",
              "         [-1.]],\n",
              "\n",
              "        [[-1.],\n",
              "         [-1.],\n",
              "         [-1.],\n",
              "         ...,\n",
              "         [-1.],\n",
              "         [-1.],\n",
              "         [-1.]]]], dtype=float32)"
            ]
          },
          "metadata": {},
          "execution_count": 190
        }
      ]
    },
    {
      "cell_type": "code",
      "source": [
        "def build_generator():\n",
        "\n",
        "  #Step 1:\n",
        "  network = tf.keras.Sequential()     # default class to buid neural network using Tenserflow\n",
        "\n",
        "  #Step 2: adding layers to dense NN\n",
        "  network.add(layers.Dense(units=7*7*256 , use_bias = False, input_shape = (100,)))\n",
        "\n",
        "  #step 3: apply normalization calc\n",
        "  network.add(layers.BatchNormalization())\n",
        "\n",
        "  #step 4: Add Activation layer\n",
        "  network.add(layers.LeakyReLU())\n",
        "\n",
        "  #step 5: Reshape for next layer\n",
        "  network.add(layers.Reshape((7,7,256)))\n",
        "\n",
        "  #step 6: to upscale cnn layer using Conv2DTranspose\n",
        "\n",
        "  #7*7*128 (Hidden layer 1)\n",
        "  network.add(layers.Conv2DTranspose(filters=128, kernel_size=(5,5), padding='same', use_bias = False ))\n",
        "  network.add(layers.BatchNormalization())\n",
        "  network.add(layers.LeakyReLU())\n",
        "\n",
        "  #14*14*64\n",
        "  network.add(layers.Conv2DTranspose(filters=64, kernel_size=(5,5), padding ='same', strides=(2,2), use_bias = False))\n",
        "  network.add(layers.BatchNormalization())\n",
        "  network.add(layers.LeakyReLU())\n",
        "\n",
        "  #28*28*1 (output layer )\n",
        "  network.add(layers.Conv2DTranspose(filters=1 , kernel_size=(5,5), padding ='same', strides=(2,2), use_bias = True, activation = 'tanh'))\n",
        "\n",
        "  network.summary()\n",
        "\n",
        "  return network"
      ],
      "metadata": {
        "id": "vpEjb8jZNGWU"
      },
      "execution_count": null,
      "outputs": []
    },
    {
      "cell_type": "code",
      "source": [],
      "metadata": {
        "id": "DbXQa5sQj1td"
      },
      "execution_count": null,
      "outputs": []
    },
    {
      "cell_type": "code",
      "source": [
        "generator= build_generator()"
      ],
      "metadata": {
        "colab": {
          "base_uri": "https://localhost:8080/"
        },
        "id": "GdwrloCpNclK",
        "outputId": "a82d369d-2f67-4b7b-efc2-b3321a0e5162"
      },
      "execution_count": null,
      "outputs": [
        {
          "output_type": "stream",
          "name": "stdout",
          "text": [
            "Model: \"sequential_8\"\n",
            "_________________________________________________________________\n",
            " Layer (type)                Output Shape              Param #   \n",
            "=================================================================\n",
            " dense_7 (Dense)             (None, 12544)             1254400   \n",
            "                                                                 \n",
            " batch_normalization_12 (Ba  (None, 12544)             50176     \n",
            " tchNormalization)                                               \n",
            "                                                                 \n",
            " leaky_re_lu_19 (LeakyReLU)  (None, 12544)             0         \n",
            "                                                                 \n",
            " reshape_4 (Reshape)         (None, 7, 7, 256)         0         \n",
            "                                                                 \n",
            " conv2d_transpose_12 (Conv2  (None, 7, 7, 128)         819200    \n",
            " DTranspose)                                                     \n",
            "                                                                 \n",
            " batch_normalization_13 (Ba  (None, 7, 7, 128)         512       \n",
            " tchNormalization)                                               \n",
            "                                                                 \n",
            " leaky_re_lu_20 (LeakyReLU)  (None, 7, 7, 128)         0         \n",
            "                                                                 \n",
            " conv2d_transpose_13 (Conv2  (None, 14, 14, 64)        204800    \n",
            " DTranspose)                                                     \n",
            "                                                                 \n",
            " batch_normalization_14 (Ba  (None, 14, 14, 64)        256       \n",
            " tchNormalization)                                               \n",
            "                                                                 \n",
            " leaky_re_lu_21 (LeakyReLU)  (None, 14, 14, 64)        0         \n",
            "                                                                 \n",
            " conv2d_transpose_14 (Conv2  (None, 28, 28, 1)         1601      \n",
            " DTranspose)                                                     \n",
            "                                                                 \n",
            "=================================================================\n",
            "Total params: 2330945 (8.89 MB)\n",
            "Trainable params: 2305473 (8.79 MB)\n",
            "Non-trainable params: 25472 (99.50 KB)\n",
            "_________________________________________________________________\n"
          ]
        }
      ]
    },
    {
      "cell_type": "code",
      "source": [
        "generator.input"
      ],
      "metadata": {
        "colab": {
          "base_uri": "https://localhost:8080/"
        },
        "id": "I7mnwjbpfwi1",
        "outputId": "199501d0-bcd4-4978-eb70-6d7197de26c5"
      },
      "execution_count": null,
      "outputs": [
        {
          "output_type": "execute_result",
          "data": {
            "text/plain": [
              "<KerasTensor: shape=(None, 100) dtype=float32 (created by layer 'dense_7_input')>"
            ]
          },
          "metadata": {},
          "execution_count": 193
        }
      ]
    },
    {
      "cell_type": "code",
      "source": [
        "noise=tf.random.normal([1,100])\n",
        "noise"
      ],
      "metadata": {
        "colab": {
          "base_uri": "https://localhost:8080/"
        },
        "id": "UTV1c_5Rj5zT",
        "outputId": "a4e6ac3b-c52e-4a2c-9844-30aaa8a8e36e"
      },
      "execution_count": null,
      "outputs": [
        {
          "output_type": "execute_result",
          "data": {
            "text/plain": [
              "<tf.Tensor: shape=(1, 100), dtype=float32, numpy=\n",
              "array([[-0.2287714 , -0.31625196,  2.9310944 , -1.2063259 ,  0.625092  ,\n",
              "         0.28018674,  0.31611195,  1.2022496 ,  1.8707796 ,  0.49548516,\n",
              "        -0.4916546 , -0.55053   , -1.4741819 ,  0.33218798, -0.43651715,\n",
              "        -1.4169377 , -0.05463019, -0.04784762, -0.4422113 ,  1.7975674 ,\n",
              "        -0.51864535, -0.61455667, -1.639613  ,  0.5819032 , -1.1375742 ,\n",
              "        -0.54847145,  1.582125  ,  0.3729733 ,  0.6913867 , -0.85540384,\n",
              "        -0.93198323, -0.5434792 , -0.6106521 ,  0.2975674 , -0.32081535,\n",
              "         0.07619406, -0.6940826 , -0.1565633 ,  0.67402476, -1.7259072 ,\n",
              "        -1.2437484 ,  0.18101308, -0.4505032 , -1.8014352 , -1.6747906 ,\n",
              "         0.7247924 , -0.32016638,  0.05696648, -0.55709106, -0.3774761 ,\n",
              "        -0.8958403 ,  1.6334938 ,  1.6844656 ,  0.8916119 , -0.49125496,\n",
              "        -0.9492794 , -1.3441806 , -0.3790429 ,  0.1245248 , -1.0088501 ,\n",
              "         2.4059184 ,  0.38320103, -1.8354385 , -1.1831685 ,  1.361731  ,\n",
              "        -0.09568398,  1.0029503 , -0.7837019 , -1.408075  ,  0.62518567,\n",
              "         0.92850167,  1.0947636 ,  1.1772817 , -0.6697235 ,  1.6308807 ,\n",
              "         0.8519776 , -1.637346  , -0.0875551 ,  1.0667611 , -0.7645031 ,\n",
              "         1.6106894 ,  1.2091337 ,  1.6409106 , -0.19649893, -0.09046099,\n",
              "        -0.44504508,  0.16452365, -0.48566493, -0.6643893 ,  0.28135023,\n",
              "         0.9199142 ,  0.20198543, -0.67621934,  0.6123332 , -0.02840508,\n",
              "         0.94331026,  0.16747658, -1.8888812 ,  1.8503243 , -1.7158395 ]],\n",
              "      dtype=float32)>"
            ]
          },
          "metadata": {},
          "execution_count": 194
        }
      ]
    },
    {
      "cell_type": "code",
      "source": [
        "generated_image = generator(noise, training=False)"
      ],
      "metadata": {
        "id": "n4rTcXEekDKH"
      },
      "execution_count": null,
      "outputs": []
    },
    {
      "cell_type": "code",
      "source": [
        "generated_image.shape"
      ],
      "metadata": {
        "colab": {
          "base_uri": "https://localhost:8080/"
        },
        "id": "k4SeZKX4lUtV",
        "outputId": "38b780a4-b3e3-4756-a416-cdea88e56f65"
      },
      "execution_count": null,
      "outputs": [
        {
          "output_type": "execute_result",
          "data": {
            "text/plain": [
              "TensorShape([1, 28, 28, 1])"
            ]
          },
          "metadata": {},
          "execution_count": 196
        }
      ]
    },
    {
      "cell_type": "code",
      "source": [
        "plt.imshow(generated_image[0, :,:,0], cmap=\"gray\")"
      ],
      "metadata": {
        "colab": {
          "base_uri": "https://localhost:8080/",
          "height": 447
        },
        "id": "cqSfZeB8lkpN",
        "outputId": "7ff74422-dafd-4090-a4e1-d60a627c99c2"
      },
      "execution_count": null,
      "outputs": [
        {
          "output_type": "execute_result",
          "data": {
            "text/plain": [
              "<matplotlib.image.AxesImage at 0x7a68d7e499c0>"
            ]
          },
          "metadata": {},
          "execution_count": 197
        },
        {
          "output_type": "display_data",
          "data": {
            "text/plain": [
              "<Figure size 640x480 with 1 Axes>"
            ],
            "image/png": "[encoded data removed]"
          },
          "metadata": {}
        }
      ]
    },
    {
      "cell_type": "code",
      "source": [
        "def build_discriminator():\n",
        "  #Step 1:\n",
        "  network = tf.keras.Sequential()     # default class to buid neural network using Tenserflow\n",
        "\n",
        "  #Step 2: to downscale cnn layer using Conv2D\n",
        "\n",
        "  # 14*14*64\n",
        "  network.add(layers.Conv2D(filters=64, kernel_size=(5,5), padding='same', strides = (2,2), input_shape = [28,28,1] ))\n",
        "  network.add(layers.LeakyReLU())\n",
        "  network.add(layers.Dropout(0.3))     #dropout done to avoid obverfitting in neural net\n",
        "\n",
        "  #7*7*128\n",
        "  network.add(layers.Conv2D(filters=128, kernel_size=(5,5), padding='same', strides = (2,2) ))\n",
        "  network.add(layers.LeakyReLU())\n",
        "  network.add(layers.Dropout(0.3))\n",
        "\n",
        "  #converting matrix to vector\n",
        "  network.add(layers.Flatten())\n",
        "\n",
        "  #next to use only 1 neron for output\n",
        "  network.add(layers.Dense(1))\n",
        "\n",
        "  network.summary()\n",
        "  return network"
      ],
      "metadata": {
        "id": "619dJLgAlzDx"
      },
      "execution_count": null,
      "outputs": []
    },
    {
      "cell_type": "code",
      "source": [
        "discriminator=  build_discriminator()"
      ],
      "metadata": {
        "colab": {
          "base_uri": "https://localhost:8080/"
        },
        "id": "w9ZsSl7WtTnT",
        "outputId": "a791a303-abba-4fb5-b503-306410d0b562"
      },
      "execution_count": null,
      "outputs": [
        {
          "output_type": "stream",
          "name": "stdout",
          "text": [
            "Model: \"sequential_9\"\n",
            "_________________________________________________________________\n",
            " Layer (type)                Output Shape              Param #   \n",
            "=================================================================\n",
            " conv2d_8 (Conv2D)           (None, 14, 14, 64)        1664      \n",
            "                                                                 \n",
            " leaky_re_lu_22 (LeakyReLU)  (None, 14, 14, 64)        0         \n",
            "                                                                 \n",
            " dropout_7 (Dropout)         (None, 14, 14, 64)        0         \n",
            "                                                                 \n",
            " conv2d_9 (Conv2D)           (None, 7, 7, 128)         204928    \n",
            "                                                                 \n",
            " leaky_re_lu_23 (LeakyReLU)  (None, 7, 7, 128)         0         \n",
            "                                                                 \n",
            " dropout_8 (Dropout)         (None, 7, 7, 128)         0         \n",
            "                                                                 \n",
            " flatten_3 (Flatten)         (None, 6272)              0         \n",
            "                                                                 \n",
            " dense_8 (Dense)             (None, 1)                 6273      \n",
            "                                                                 \n",
            "=================================================================\n",
            "Total params: 212865 (831.50 KB)\n",
            "Trainable params: 212865 (831.50 KB)\n",
            "Non-trainable params: 0 (0.00 Byte)\n",
            "_________________________________________________________________\n"
          ]
        }
      ]
    },
    {
      "cell_type": "code",
      "source": [
        "discriminator.input"
      ],
      "metadata": {
        "colab": {
          "base_uri": "https://localhost:8080/"
        },
        "id": "gNdMCcz8tgOQ",
        "outputId": "8223297f-e2bf-499e-d648-70bf75c91741"
      },
      "execution_count": null,
      "outputs": [
        {
          "output_type": "execute_result",
          "data": {
            "text/plain": [
              "<KerasTensor: shape=(None, 28, 28, 1) dtype=float32 (created by layer 'conv2d_8_input')>"
            ]
          },
          "metadata": {},
          "execution_count": 200
        }
      ]
    },
    {
      "cell_type": "code",
      "source": [
        "discriminator(generated_image, training=False)  #here we test discriminator with image generated by generator"
      ],
      "metadata": {
        "colab": {
          "base_uri": "https://localhost:8080/"
        },
        "id": "d-BuU-RxvcHE",
        "outputId": "50cc0ecd-3a58-4cc7-f401-b55a3b127ce8"
      },
      "execution_count": null,
      "outputs": [
        {
          "output_type": "execute_result",
          "data": {
            "text/plain": [
              "<tf.Tensor: shape=(1, 1), dtype=float32, numpy=array([[-0.00300417]], dtype=float32)>"
            ]
          },
          "metadata": {},
          "execution_count": 201
        }
      ]
    },
    {
      "cell_type": "markdown",
      "source": [
        "we apply activation function to translate it to probabilities"
      ],
      "metadata": {
        "id": "jctF8XTWwPq4"
      }
    },
    {
      "cell_type": "code",
      "source": [
        "tf.sigmoid(-0.00285281)   #output gives 0.49 ie 50% probability for image to be right"
      ],
      "metadata": {
        "colab": {
          "base_uri": "https://localhost:8080/"
        },
        "id": "xOt8GSg3vqFz",
        "outputId": "e14a5f84-5802-4cd8-92c6-d3f8e3e4ad69"
      },
      "execution_count": null,
      "outputs": [
        {
          "output_type": "execute_result",
          "data": {
            "text/plain": [
              "<tf.Tensor: shape=(), dtype=float32, numpy=0.4992868>"
            ]
          },
          "metadata": {},
          "execution_count": 202
        }
      ]
    },
    {
      "cell_type": "code",
      "source": [
        "cross_entropy = tf.keras.losses.BinaryCrossentropy(from_logits = True)"
      ],
      "metadata": {
        "id": "YFKpO5ouvwLk"
      },
      "execution_count": null,
      "outputs": []
    },
    {
      "cell_type": "code",
      "source": [
        "def discriminator_loss(expected_output, fake_output):\n",
        "  #compute the loss for real images by comparing them to a tensor of ones(real labels).\n",
        "  real_loss= cross_entropy(tf.ones_like(expected_output), expected_output)\n",
        "  #since real images are equivalent to one. For this reason, we are comparing the expected outputs , the real images with number ones.\n",
        "  fake_loss=cross_entropy(tf.zeroes_like(fake_output), fake_output)\n",
        "  #calculate the total discriminator loss by summing the real and fake losses.\n",
        "  total_loss= real_loss + fake_loss\n",
        "  return total_loss"
      ],
      "metadata": {
        "id": "3AeJiP6bwLag"
      },
      "execution_count": null,
      "outputs": []
    },
    {
      "cell_type": "code",
      "source": [
        "def generator_loss(fake_output):\n",
        "  return cross_entropy(tf.ones_like(fake_output), fake_output)"
      ],
      "metadata": {
        "id": "zKz0B3xnzFRw"
      },
      "execution_count": null,
      "outputs": []
    },
    {
      "cell_type": "code",
      "source": [
        "generator_optimizer=tf.keras.optimizers.Adam(learning_rate=0.00001)\n",
        "discriminator_optimizer=tf.keras.optimizers.Adam(learning_rate=0.00001)"
      ],
      "metadata": {
        "id": "3pNC2klv0QyY"
      },
      "execution_count": null,
      "outputs": []
    },
    {
      "cell_type": "code",
      "source": [
        "epoch = 100\n",
        "noise_dimension= 100\n",
        "number_of_images= 16"
      ],
      "metadata": {
        "id": "oLDX1Ny90z8p"
      },
      "execution_count": null,
      "outputs": []
    },
    {
      "cell_type": "code",
      "source": [
        "batch_size, noise_dimension"
      ],
      "metadata": {
        "colab": {
          "base_uri": "https://localhost:8080/"
        },
        "id": "5jVoaxGA1Nro",
        "outputId": "0d810d44-26d9-4a5d-d710-0930a1e20619"
      },
      "execution_count": null,
      "outputs": [
        {
          "output_type": "execute_result",
          "data": {
            "text/plain": [
              "(256, 100)"
            ]
          },
          "metadata": {},
          "execution_count": 208
        }
      ]
    },
    {
      "cell_type": "code",
      "source": [
        "@tf.function\n",
        "def train(images):\n",
        "  noise = tf.random.normal([batch_size, noise_dimension])\n",
        "\n",
        "  # gradient calc\n",
        "  with tf.GradientTape() as gen_tape, tf.GradientTape() as disc_tape:\n",
        "\n",
        "    #generate fake imgs\n",
        "    generated_images = generator(noise, training=True)\n",
        "\n",
        "    #calc disc output\n",
        "    expected_output = discriminator(images, training = True)\n",
        "    fake_output = discriminator(generated_images, training = True)\n",
        "\n",
        "    #calc losses\n",
        "    gen_loss = generator_loss(fake_output)\n",
        "    disc_loss = discriminator_loss(expected_output, fake_output)\n",
        "\n",
        "    #gradient cal\n",
        "    gen_gradients = gen_tape.gradient(gen_loss, generator.trainable_variables)\n",
        "    disc_gradients = disc_tape.gradient(disc_loss, discriminator.trainable_variables)\n",
        "\n",
        "    #application of gradient using optimizer\n",
        "    generator_optimizer.apply_gradients(zip(gen_gradients, generator.trainable_variables))\n",
        "    discriminator_optimizer.apply_gradients(zip(disc_gradients, discriminator.trainable_variables))"
      ],
      "metadata": {
        "id": "dPRjNpXQ1SnM"
      },
      "execution_count": null,
      "outputs": []
    },
    {
      "cell_type": "code",
      "source": [
        "print(type(X_train))"
      ],
      "metadata": {
        "colab": {
          "base_uri": "https://localhost:8080/"
        },
        "id": "bTX4rXvc9VDS",
        "outputId": "ec862362-4b38-40f5-c8d3-eff6ca6aec0c"
      },
      "execution_count": null,
      "outputs": [
        {
          "output_type": "stream",
          "name": "stdout",
          "text": [
            "<class 'numpy.ndarray'>\n"
          ]
        }
      ]
    },
    {
      "cell_type": "code",
      "source": [
        "tf.config.run_functions_eagerly(True)\n",
        "X_train_batch = X_train.as_numpy_iterator().next()\n",
        "train(X_train_batch)"
      ],
      "metadata": {
        "colab": {
          "base_uri": "https://localhost:8080/",
          "height": 176
        },
        "id": "Ztnmtzp85dA0",
        "outputId": "eee00b5f-dae0-48ad-811b-93cbb0309ab2"
      },
      "execution_count": null,
      "outputs": [
        {
          "output_type": "error",
          "ename": "AttributeError",
          "evalue": "'numpy.ndarray' object has no attribute 'as_numpy_iterator'",
          "traceback": [
            "\u001b[0;31m---------------------------------------------------------------------------\u001b[0m",
            "\u001b[0;31mAttributeError\u001b[0m                            Traceback (most recent call last)",
            "\u001b[0;32m<ipython-input-211-f0cfd176adc2>\u001b[0m in \u001b[0;36m<cell line: 2>\u001b[0;34m()\u001b[0m\n\u001b[1;32m      1\u001b[0m \u001b[0mtf\u001b[0m\u001b[0;34m.\u001b[0m\u001b[0mconfig\u001b[0m\u001b[0;34m.\u001b[0m\u001b[0mrun_functions_eagerly\u001b[0m\u001b[0;34m(\u001b[0m\u001b[0;32mTrue\u001b[0m\u001b[0;34m)\u001b[0m\u001b[0;34m\u001b[0m\u001b[0;34m\u001b[0m\u001b[0m\n\u001b[0;32m----> 2\u001b[0;31m \u001b[0mX_train_batch\u001b[0m \u001b[0;34m=\u001b[0m \u001b[0mX_train\u001b[0m\u001b[0;34m.\u001b[0m\u001b[0mas_numpy_iterator\u001b[0m\u001b[0;34m(\u001b[0m\u001b[0;34m)\u001b[0m\u001b[0;34m.\u001b[0m\u001b[0mnext\u001b[0m\u001b[0;34m(\u001b[0m\u001b[0;34m)\u001b[0m\u001b[0;34m\u001b[0m\u001b[0;34m\u001b[0m\u001b[0m\n\u001b[0m\u001b[1;32m      3\u001b[0m \u001b[0mtrain\u001b[0m\u001b[0;34m(\u001b[0m\u001b[0mX_train_batch\u001b[0m\u001b[0;34m)\u001b[0m\u001b[0;34m\u001b[0m\u001b[0;34m\u001b[0m\u001b[0m\n",
            "\u001b[0;31mAttributeError\u001b[0m: 'numpy.ndarray' object has no attribute 'as_numpy_iterator'"
          ]
        }
      ]
    },
    {
      "cell_type": "code",
      "source": [
        "test_images = tf.random.normal([number_of_images, noise_dimension])\n",
        "test_images.shape"
      ],
      "metadata": {
        "id": "v3hnojyo5iUd"
      },
      "execution_count": null,
      "outputs": []
    },
    {
      "cell_type": "code",
      "source": [
        "60000 / 256"
      ],
      "metadata": {
        "id": "XhTomE865frJ"
      },
      "execution_count": null,
      "outputs": []
    },
    {
      "cell_type": "code",
      "source": [
        "generated_images =[]\n",
        "def train_gan(dataset, epochs, test_images):\n",
        "  for epoch in range(epochs):\n",
        "    #print(epoch)\n",
        "    for image_batch in dataset:\n",
        "      #print(image_batch.shape)\n",
        "      train(image_batch)\n",
        "\n",
        "    print('Epoch: ', epoch + 1)\n",
        "    generated_images = generator(test_images, training = False)\n",
        "    fig = plt.figure(figsize = (10,10))\n",
        "    for i in range(generated_images.shape[0]):\n",
        "      plt.subplot(4,4,i + 1)  # The subplot method has 3 arguments: rows, columns and index of the current plot.\n",
        "      plt.imshow(generated_images[i, :, :, 0] * 127.5 + 127.5, cmap='gray')\n",
        "      plt.axis('off')\n",
        "    plt.show()"
      ],
      "metadata": {
        "id": "d7J6Ah-f65uO"
      },
      "execution_count": null,
      "outputs": []
    },
    {
      "cell_type": "code",
      "source": [
        "train_gan(X_train, epochs, test_images)"
      ],
      "metadata": {
        "id": "FH0fEAhn69V-"
      },
      "execution_count": null,
      "outputs": []
    }
  ]
}